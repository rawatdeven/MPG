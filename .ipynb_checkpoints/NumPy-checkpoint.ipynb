{
 "cells": [
  {
   "cell_type": "code",
   "execution_count": 16,
   "metadata": {},
   "outputs": [
    {
     "data": {
      "text/plain": [
       "array(<class 'object'>, dtype=object)"
      ]
     },
     "execution_count": 16,
     "metadata": {},
     "output_type": "execute_result"
    }
   ],
   "source": [
    "import numpy as np\n",
    "np.array (object, dtype = None, copy = True, order = None, subok = False, ndmin = 0)"
   ]
  },
  {
   "cell_type": "code",
   "execution_count": 18,
   "metadata": {},
   "outputs": [
    {
     "name": "stdout",
     "output_type": "stream",
     "text": [
      "[1 2 3]\n",
      "[5 6 7]\n",
      "<class 'numpy.ndarray'>\n",
      "<class 'numpy.ndarray'>\n"
     ]
    }
   ],
   "source": [
    "arr = np.array([1, 2, 3])\n",
    "print(arr)\n",
    "arr2 = np.array((5, 6, 7))\n",
    "print(arr2)\n",
    "print(type(arr))\n",
    "print(type(arr2))"
   ]
  },
  {
   "cell_type": "code",
   "execution_count": 21,
   "metadata": {},
   "outputs": [
    {
     "name": "stdout",
     "output_type": "stream",
     "text": [
      "[ 6  8  7  9  3  4 12]\n",
      "(7,)\n",
      "7\n",
      "1\n"
     ]
    }
   ],
   "source": [
    "#One dimensional array\n",
    "arr3 = np.array([6, 8, 7, 9, 3, 4, 12])\n",
    "print(arr3)\n",
    "print(arr3.shape)\n",
    "print(arr3.size)\n",
    "print(arr3.ndim)"
   ]
  },
  {
   "cell_type": "code",
   "execution_count": 37,
   "metadata": {},
   "outputs": [
    {
     "name": "stdout",
     "output_type": "stream",
     "text": [
      "[[ 1  2  3  4  5]\n",
      " [ 6  7  8  9 10]]\n",
      "(2, 5)\n",
      "10\n",
      "2\n"
     ]
    }
   ],
   "source": [
    "#Two dimensional array\n",
    "arr4 = np.array([[1, 2, 3, 4, 5],[6, 7, 8, 9, 10]])\n",
    "print(arr4)\n",
    "print(arr4.shape)\n",
    "print(arr4.size)\n",
    "print(arr4.ndim)"
   ]
  },
  {
   "cell_type": "code",
   "execution_count": 23,
   "metadata": {},
   "outputs": [
    {
     "name": "stdout",
     "output_type": "stream",
     "text": [
      "[[[ 1  2  3  4  5]\n",
      "  [ 6  7  8  9 10]]\n",
      "\n",
      " [[11 12 13 14 15]\n",
      "  [16 17 18 19 20]]]\n",
      "(2, 2, 5)\n",
      "20\n",
      "3\n"
     ]
    }
   ],
   "source": [
    "#Three dimensional array\n",
    "arr5 = np.array([[[1, 2, 3, 4, 5],[6, 7, 8, 9, 10]], [[11, 12, 13, 14, 15],[16, 17, 18, 19, 20]]])\n",
    "print(arr5)\n",
    "print(arr5.shape)\n",
    "print(arr5.size)\n",
    "print(arr5.ndim)"
   ]
  },
  {
   "cell_type": "code",
   "execution_count": 24,
   "metadata": {},
   "outputs": [
    {
     "name": "stdout",
     "output_type": "stream",
     "text": [
      "[[ 1  2  3  4  5]\n",
      " [ 6  7  8  9 10]]\n",
      "[[ 1  2]\n",
      " [ 3  4]\n",
      " [ 5  6]\n",
      " [ 7  8]\n",
      " [ 9 10]]\n",
      "[[[ 1  2  3  4  5]\n",
      "  [ 6  7  8  9 10]]\n",
      "\n",
      " [[11 12 13 14 15]\n",
      "  [16 17 18 19 20]]]\n",
      "[[[ 1  2]\n",
      "  [ 3  4]]\n",
      "\n",
      " [[ 5  6]\n",
      "  [ 7  8]]\n",
      "\n",
      " [[ 9 10]\n",
      "  [11 12]]\n",
      "\n",
      " [[13 14]\n",
      "  [15 16]]\n",
      "\n",
      " [[17 18]\n",
      "  [19 20]]]\n"
     ]
    }
   ],
   "source": [
    "print(arr4)\n",
    "print(arr4.reshape(5, 2))\n",
    "print(arr5)\n",
    "print(arr5.reshape(5, 2, 2))"
   ]
  },
  {
   "cell_type": "code",
   "execution_count": 25,
   "metadata": {},
   "outputs": [
    {
     "name": "stdout",
     "output_type": "stream",
     "text": [
      "[[ 1  2  3  4]\n",
      " [ 5  6  7  8]\n",
      " [ 9 10 11 12]\n",
      " [13 14 15 16]\n",
      " [17 18 19 20]]\n"
     ]
    }
   ],
   "source": [
    "print(arr5.reshape(5, 4))"
   ]
  },
  {
   "cell_type": "code",
   "execution_count": 33,
   "metadata": {},
   "outputs": [
    {
     "name": "stdout",
     "output_type": "stream",
     "text": [
      "[[ 1  2  3  4  5]\n",
      " [ 6  7  8  9 10]]\n",
      "10\n",
      "[ 6  7  8  9 10]\n",
      "[ 5 10]\n"
     ]
    }
   ],
   "source": [
    "print(arr4)\n",
    "print(arr4.max())\n",
    "print(arr4.max(axis = 0))\n",
    "print(arr4.max(axis = 1))"
   ]
  },
  {
   "cell_type": "code",
   "execution_count": 39,
   "metadata": {},
   "outputs": [
    {
     "name": "stdout",
     "output_type": "stream",
     "text": [
      "int64\n",
      "[[ 1  2  3  4  5]\n",
      " [ 6  7  8  9 10]]\n"
     ]
    }
   ],
   "source": [
    "print(arr4.dtype)\n",
    "print(arr4)"
   ]
  },
  {
   "cell_type": "code",
   "execution_count": 40,
   "metadata": {},
   "outputs": [
    {
     "data": {
      "text/plain": [
       "array([[ 1.,  2.,  3.,  4.,  5.],\n",
       "       [ 6.,  7.,  8.,  9., 10.]])"
      ]
     },
     "execution_count": 40,
     "metadata": {},
     "output_type": "execute_result"
    }
   ],
   "source": [
    "arr4.astype(float)"
   ]
  },
  {
   "cell_type": "code",
   "execution_count": 41,
   "metadata": {},
   "outputs": [
    {
     "name": "stdout",
     "output_type": "stream",
     "text": [
      "[0. 0. 0. 0. 0.]\n",
      "<class 'numpy.ndarray'>\n"
     ]
    }
   ],
   "source": [
    "zeros = np.zeros(5)\n",
    "print(zeros)\n",
    "print(type(zeros))"
   ]
  },
  {
   "cell_type": "code",
   "execution_count": 43,
   "metadata": {},
   "outputs": [
    {
     "name": "stdout",
     "output_type": "stream",
     "text": [
      "[[1. 1. 1. 1. 1.]\n",
      " [1. 1. 1. 1. 1.]\n",
      " [1. 1. 1. 1. 1.]\n",
      " [1. 1. 1. 1. 1.]]\n",
      "<class 'numpy.ndarray'>\n"
     ]
    }
   ],
   "source": [
    "ones = np.ones((4, 5))\n",
    "print(ones)\n",
    "print(type(ones))"
   ]
  },
  {
   "cell_type": "code",
   "execution_count": 47,
   "metadata": {},
   "outputs": [
    {
     "name": "stdout",
     "output_type": "stream",
     "text": [
      "[list([1, 2, 3]) list([4, 5]) list([6, 7, 8, 9])\n",
      " list([9, 8, 7, 6, 5, 4, 3])]\n",
      "<class 'numpy.ndarray'>\n",
      "4\n",
      "(4,)\n",
      "3\n"
     ]
    },
    {
     "name": "stderr",
     "output_type": "stream",
     "text": [
      "/opt/anaconda3/lib/python3.7/site-packages/ipykernel_launcher.py:1: VisibleDeprecationWarning: Creating an ndarray from ragged nested sequences (which is a list-or-tuple of lists-or-tuples-or ndarrays with different lengths or shapes) is deprecated. If you meant to do this, you must specify 'dtype=object' when creating the ndarray.\n",
      "  \"\"\"Entry point for launching an IPython kernel.\n"
     ]
    }
   ],
   "source": [
    "arr6 = np.array([[1, 2, 3], [4, 5], [6, 7, 8, 9], [9, 8, 7, 6, 5, 4, 3]])\n",
    "print(arr6)\n",
    "print(type(arr6))\n",
    "print(arr6.size)\n",
    "print(arr6.shape)\n",
    "print(arr5.ndim)"
   ]
  },
  {
   "cell_type": "code",
   "execution_count": 49,
   "metadata": {},
   "outputs": [
    {
     "name": "stdout",
     "output_type": "stream",
     "text": [
      "[10 11 11 11  4 12 13 12 15  6  8  8  8 14 12 10  1  1  2  1]\n"
     ]
    }
   ],
   "source": [
    "arr7 = np.random.randint(16, size = 20)\n",
    "print(arr7)"
   ]
  },
  {
   "cell_type": "code",
   "execution_count": 52,
   "metadata": {},
   "outputs": [
    {
     "name": "stdout",
     "output_type": "stream",
     "text": [
      "[[2.+3.j 2.+3.j 2.+3.j 2.+3.j 2.+3.j]\n",
      " [2.+3.j 2.+3.j 2.+3.j 2.+3.j 2.+3.j]\n",
      " [2.+3.j 2.+3.j 2.+3.j 2.+3.j 2.+3.j]\n",
      " [2.+3.j 2.+3.j 2.+3.j 2.+3.j 2.+3.j]]\n"
     ]
    }
   ],
   "source": [
    "arr8 = np.full((4, 5), 2+3.j)\n",
    "print(arr8)"
   ]
  },
  {
   "cell_type": "code",
   "execution_count": 54,
   "metadata": {},
   "outputs": [
    {
     "name": "stdout",
     "output_type": "stream",
     "text": [
      "[[0.73531376 0.92277388 0.23090107 0.98932958 0.15235816 0.74018926]\n",
      " [0.45120555 0.77156442 0.02380069 0.77207927 0.92096262 0.82682526]\n",
      " [0.4312844  0.75943924 0.68264511 0.63083632 0.7915015  0.90786608]\n",
      " [0.45228405 0.39584169 0.86275871 0.67473228 0.16158593 0.66453875]]\n"
     ]
    }
   ],
   "source": [
    "arr9 = np.random.random((4, 6))\n",
    "print(arr9)"
   ]
  },
  {
   "cell_type": "code",
   "execution_count": 64,
   "metadata": {},
   "outputs": [
    {
     "name": "stdout",
     "output_type": "stream",
     "text": [
      "[ 5 10 15 20 25 30 35 40 45]\n"
     ]
    }
   ],
   "source": [
    "arr10 = np.arange(5, 50, 5)\n",
    "print(arr10)"
   ]
  },
  {
   "cell_type": "code",
   "execution_count": 61,
   "metadata": {},
   "outputs": [
    {
     "name": "stdout",
     "output_type": "stream",
     "text": [
      "[  0.  25.  50.  75. 100.]\n"
     ]
    }
   ],
   "source": [
    "arr11 = np.linspace(0, 100, 5)\n",
    "print(arr11)"
   ]
  },
  {
   "cell_type": "code",
   "execution_count": 71,
   "metadata": {},
   "outputs": [
    {
     "name": "stdout",
     "output_type": "stream",
     "text": [
      "[[ 1  2  3  4  5]\n",
      " [ 6  7  8  9 10]]\n",
      "[[1 2]\n",
      " [6 7]]\n"
     ]
    }
   ],
   "source": [
    "print(arr4)\n",
    "print(arr4[:2, :2])"
   ]
  },
  {
   "cell_type": "code",
   "execution_count": 73,
   "metadata": {},
   "outputs": [
    {
     "name": "stdout",
     "output_type": "stream",
     "text": [
      "[[ 1  2  3  4  5]\n",
      " [ 6  7  8  9 10]]\n",
      "[ 2 10]\n"
     ]
    }
   ],
   "source": [
    "print(arr4)\n",
    "temp = arr4[[0, 1], [1, 4]]     #array index\n",
    "print(temp)"
   ]
  },
  {
   "cell_type": "code",
   "execution_count": 74,
   "metadata": {},
   "outputs": [
    {
     "name": "stdout",
     "output_type": "stream",
     "text": [
      "[[ 1  2  3  4  5]\n",
      " [ 6  7  8  9 10]]\n",
      "[[False False  True  True  True]\n",
      " [ True  True  True  True  True]]\n"
     ]
    }
   ],
   "source": [
    "print(arr4)\n",
    "temp = arr4>=3        #boolean array\n",
    "print(temp)  "
   ]
  },
  {
   "cell_type": "code",
   "execution_count": 75,
   "metadata": {},
   "outputs": [
    {
     "name": "stdout",
     "output_type": "stream",
     "text": [
      "[ 3  4  5  6  7  8  9 10]\n"
     ]
    }
   ],
   "source": [
    "print(arr4[arr4>=3])"
   ]
  },
  {
   "cell_type": "code",
   "execution_count": 76,
   "metadata": {},
   "outputs": [
    {
     "ename": "SyntaxError",
     "evalue": "invalid syntax (<ipython-input-76-17a6b8b8fbad>, line 1)",
     "output_type": "error",
     "traceback": [
      "\u001b[0;36m  File \u001b[0;32m\"<ipython-input-76-17a6b8b8fbad>\"\u001b[0;36m, line \u001b[0;32m1\u001b[0m\n\u001b[0;31m    print(arr4[[arr4>=3][arr4>7])\u001b[0m\n\u001b[0m                                ^\u001b[0m\n\u001b[0;31mSyntaxError\u001b[0m\u001b[0;31m:\u001b[0m invalid syntax\n"
     ]
    }
   ],
   "source": []
  },
  {
   "cell_type": "code",
   "execution_count": 79,
   "metadata": {},
   "outputs": [
    {
     "name": "stdout",
     "output_type": "stream",
     "text": [
      "[[14. 16. 18. 20.]\n",
      " [22. 24. 26. 28.]]\n",
      "[[14. 16. 18. 20.]\n",
      " [22. 24. 26. 28.]]\n",
      "[[10. 10. 10. 10.]\n",
      " [10. 10. 10. 10.]]\n",
      "[[-10. -10. -10. -10.]\n",
      " [-10. -10. -10. -10.]]\n",
      "[[ 24.  39.  56.  75.]\n",
      " [ 96. 119. 144. 171.]]\n",
      "[[ 24.  39.  56.  75.]\n",
      " [ 96. 119. 144. 171.]]\n",
      "[[6.         4.33333333 3.5        3.        ]\n",
      " [2.66666667 2.42857143 2.25       2.11111111]]\n",
      "[[0.16666667 0.23076923 0.28571429 0.33333333]\n",
      " [0.375      0.41176471 0.44444444 0.47368421]]\n"
     ]
    }
   ],
   "source": [
    "x = np.array([[2, 3, 4, 5], [6, 7, 8, 9]], dtype = np.float64)\n",
    "y = np.array([[12, 13, 14, 15], [16, 17, 18, 19]], dtype = np.float64)\n",
    "print(x+y)  \n",
    "print(np.add(x, y))\n",
    "print(y-x)\n",
    "print(np.subtract(x, y))\n",
    "print(x*y)\n",
    "print(np.multiply(x, y))\n",
    "print(y/x)\n",
    "print(np.divide(x, y))           #element wise operations"
   ]
  },
  {
   "cell_type": "code",
   "execution_count": 86,
   "metadata": {},
   "outputs": [
    {
     "name": "stdout",
     "output_type": "stream",
     "text": [
      "[[2. 3. 4. 5.]\n",
      " [6. 7. 8. 9.]]\n",
      "44.0\n",
      "[ 8. 10. 12. 14.]\n",
      "[14. 30.]\n",
      "[[12. 13. 14. 15.]\n",
      " [16. 17. 18. 19.]]\n",
      "124.0\n",
      "[28. 30. 32. 34.]\n",
      "[54. 70.]\n"
     ]
    }
   ],
   "source": [
    "print(x)\n",
    "print(np.sum(x))\n",
    "print(np.sum(x, axis = 0))\n",
    "print(np.sum(x, axis = 1))\n",
    "print(y)\n",
    "print(np.sum(y))\n",
    "print(np.sum(y, axis = 0))\n",
    "print(np.sum(y, axis = 1))"
   ]
  },
  {
   "cell_type": "code",
   "execution_count": 88,
   "metadata": {},
   "outputs": [
    {
     "name": "stdout",
     "output_type": "stream",
     "text": [
      "[[2. 3. 4. 5.]\n",
      " [6. 7. 8. 9.]]\n",
      "[ 2.  5.  9. 14. 20. 27. 35. 44.]\n",
      "[[ 2.  3.  4.  5.]\n",
      " [ 8. 10. 12. 14.]]\n",
      "[[ 2.  5.  9. 14.]\n",
      " [ 6. 13. 21. 30.]]\n"
     ]
    }
   ],
   "source": [
    "print(x)\n",
    "print(x.cumsum())\n",
    "print(x.cumsum(axis = 0))\n",
    "print(x.cumsum(axis = 1))"
   ]
  },
  {
   "cell_type": "code",
   "execution_count": 89,
   "metadata": {},
   "outputs": [
    {
     "name": "stdout",
     "output_type": "stream",
     "text": [
      "[0.         1.57079633 3.14159265]\n"
     ]
    }
   ],
   "source": [
    "a = np.array([0, np.pi/2, np.pi])\n",
    "print(a)"
   ]
  },
  {
   "cell_type": "code",
   "execution_count": 90,
   "metadata": {},
   "outputs": [
    {
     "name": "stdout",
     "output_type": "stream",
     "text": [
      "[0.0000000e+00 1.0000000e+00 1.2246468e-16]\n"
     ]
    }
   ],
   "source": [
    "print(np.sin(a))"
   ]
  },
  {
   "cell_type": "code",
   "execution_count": 91,
   "metadata": {},
   "outputs": [
    {
     "name": "stdout",
     "output_type": "stream",
     "text": [
      "[ 1.          4.81047738 23.14069263]\n"
     ]
    }
   ],
   "source": [
    "print(np.exp(a))"
   ]
  },
  {
   "cell_type": "code",
   "execution_count": 92,
   "metadata": {},
   "outputs": [
    {
     "name": "stdout",
     "output_type": "stream",
     "text": [
      "[0.         1.25331414 1.77245385]\n"
     ]
    }
   ],
   "source": [
    "print(np.sqrt(a))"
   ]
  },
  {
   "cell_type": "code",
   "execution_count": 96,
   "metadata": {},
   "outputs": [
    {
     "name": "stdout",
     "output_type": "stream",
     "text": [
      "[[2 5 4]\n",
      " [1 5 8]\n",
      " [3 5 2]]\n",
      "[[2 4 5]\n",
      " [1 5 8]\n",
      " [2 3 5]]\n"
     ]
    }
   ],
   "source": [
    "x = np.array([[2, 5, 4], [1, 5, 8], [3, 5, 2]])\n",
    "print(x)\n",
    "print(np.sort(x, axis=1))"
   ]
  },
  {
   "cell_type": "code",
   "execution_count": 97,
   "metadata": {},
   "outputs": [
    {
     "name": "stdout",
     "output_type": "stream",
     "text": [
      "[[2 5 4]\n",
      " [1 5 8]\n",
      " [3 5 2]]\n",
      "[[1 5 2]\n",
      " [2 5 4]\n",
      " [3 5 8]]\n"
     ]
    }
   ],
   "source": [
    "x = np.array([[2, 5, 4], [1, 5, 8], [3, 5, 2]])\n",
    "print(x)\n",
    "print(np.sort(x, axis=0, kind = 'mergesort'))"
   ]
  },
  {
   "cell_type": "code",
   "execution_count": 100,
   "metadata": {},
   "outputs": [
    {
     "name": "stdout",
     "output_type": "stream",
     "text": [
      "[[2 3]\n",
      " [4 5]\n",
      " [6 4]]\n",
      "[[2 3]\n",
      " [4 5]\n",
      " [6 4]]\n",
      "[[2 3]\n",
      " [4 5]\n",
      " [6 4]\n",
      " [5 8]\n",
      " [6 3]\n",
      " [7 2]]\n",
      "[[2 3 5 8]\n",
      " [4 5 6 3]\n",
      " [6 4 7 2]]\n"
     ]
    }
   ],
   "source": [
    "a = np.array([[2,  3], [4, 5], [6, 4]])\n",
    "b = np.array([[5,  8], [6, 3], [7, 2]])\n",
    "print(a)\n",
    "print(a)\n",
    "print(np.vstack((a, b)))  #np.rowstack() & np.concatenate()\n",
    "print(np.hstack((a,b)))   #np.columnstack()"
   ]
  },
  {
   "cell_type": "code",
   "execution_count": 104,
   "metadata": {},
   "outputs": [
    {
     "name": "stdout",
     "output_type": "stream",
     "text": [
      "[[2 3]\n",
      " [4 5]\n",
      " [6 4]\n",
      " [5 6]]\n",
      "[array([[2],\n",
      "       [4],\n",
      "       [6],\n",
      "       [5]]), array([[3],\n",
      "       [5],\n",
      "       [4],\n",
      "       [6]])]\n",
      "[array([[2, 3],\n",
      "       [4, 5]]), array([[6, 4],\n",
      "       [5, 6]])]\n"
     ]
    }
   ],
   "source": [
    "a = np.array([[2,  3], [4, 5], [6, 4], [5, 6]])\n",
    "print(a)\n",
    "print(np.hsplit(a, 2))\n",
    "print(np.vsplit(a, 2))"
   ]
  },
  {
   "cell_type": "code",
   "execution_count": 105,
   "metadata": {},
   "outputs": [
    {
     "name": "stdout",
     "output_type": "stream",
     "text": [
      "[[2 3]\n",
      " [4 5]\n",
      " [6 4]\n",
      " [5 6]]\n",
      "[[2 4 6 5]\n",
      " [3 5 4 6]]\n"
     ]
    }
   ],
   "source": [
    "print(a)\n",
    "print(a.T)   #transpose"
   ]
  },
  {
   "cell_type": "code",
   "execution_count": 107,
   "metadata": {},
   "outputs": [
    {
     "name": "stdout",
     "output_type": "stream",
     "text": [
      "[[2 3]\n",
      " [4 5]\n",
      " [6 4]\n",
      " [5 6]]\n",
      "[2 3 4 5 6 4 5 6]\n"
     ]
    }
   ],
   "source": [
    "print(a)\n",
    "print(a.flatten()) "
   ]
  },
  {
   "cell_type": "code",
   "execution_count": 110,
   "metadata": {},
   "outputs": [
    {
     "name": "stdout",
     "output_type": "stream",
     "text": [
      "[[2 3 5]\n",
      " [4 5 6]\n",
      " [6 4 7]]\n",
      "[[5 8]\n",
      " [6 3]\n",
      " [7 2]]\n",
      "[[ 63  35]\n",
      " [ 92  59]\n",
      " [103  74]]\n",
      "[[ 63  35]\n",
      " [ 92  59]\n",
      " [103  74]]\n"
     ]
    }
   ],
   "source": [
    "a = np.array([[2,  3, 5], [4, 5, 6], [6, 4, 7]])\n",
    "b = np.array([[5,  8], [6, 3], [7, 2]])\n",
    "print(a)\n",
    "print(b)\n",
    "print(a.dot(b))\n",
    "print(np.dot(a, b))    #np.matmul(a, b)"
   ]
  },
  {
   "cell_type": "code",
   "execution_count": 115,
   "metadata": {},
   "outputs": [
    {
     "name": "stdout",
     "output_type": "stream",
     "text": [
      "[2. 3.]\n"
     ]
    }
   ],
   "source": [
    "# x+2*y = 8\n",
    "#3*x+4*Y= 18\n",
    "\n",
    "a = np.array([[1, 2], [3, 4]])\n",
    "b = np.array([8, 18])\n",
    "\n",
    "print(np.linalg.solve(a, b))"
   ]
  },
  {
   "cell_type": "code",
   "execution_count": 116,
   "metadata": {},
   "outputs": [
    {
     "name": "stdout",
     "output_type": "stream",
     "text": [
      "2\n"
     ]
    }
   ],
   "source": [
    "print(np.linalg.matrix_rank(a))"
   ]
  },
  {
   "cell_type": "code",
   "execution_count": 117,
   "metadata": {},
   "outputs": [
    {
     "name": "stdout",
     "output_type": "stream",
     "text": [
      "-2.0000000000000004\n"
     ]
    }
   ],
   "source": [
    "print(np.linalg.det(a))"
   ]
  },
  {
   "cell_type": "code",
   "execution_count": 118,
   "metadata": {},
   "outputs": [
    {
     "name": "stdout",
     "output_type": "stream",
     "text": [
      "5\n"
     ]
    }
   ],
   "source": [
    "print(np.trace(a))"
   ]
  },
  {
   "cell_type": "code",
   "execution_count": 120,
   "metadata": {},
   "outputs": [
    {
     "name": "stdout",
     "output_type": "stream",
     "text": [
      "[[ 7 10]\n",
      " [15 22]]\n"
     ]
    }
   ],
   "source": [
    "print(np.linalg.matrix_power(a, 2))"
   ]
  },
  {
   "cell_type": "code",
   "execution_count": 122,
   "metadata": {},
   "outputs": [
    {
     "name": "stdout",
     "output_type": "stream",
     "text": [
      "[[-2.   1. ]\n",
      " [ 1.5 -0.5]]\n"
     ]
    }
   ],
   "source": [
    "print(np.linalg.inv(a))"
   ]
  },
  {
   "cell_type": "code",
   "execution_count": 124,
   "metadata": {},
   "outputs": [
    {
     "name": "stdout",
     "output_type": "stream",
     "text": [
      "[[10 24  5]\n",
      " [20 40  6]\n",
      " [30 32  7]]\n"
     ]
    }
   ],
   "source": [
    "a = np.array([[2,  3, 5], [4, 5, 6], [6, 4, 7]])\n",
    "b = np.array([5,  8, 1])\n",
    "print(a*b)    #Broadcasting"
   ]
  },
  {
   "cell_type": "code",
   "execution_count": 125,
   "metadata": {},
   "outputs": [
    {
     "name": "stdout",
     "output_type": "stream",
     "text": [
      "[[20 30 50]\n",
      " [40 50 60]\n",
      " [60 40 70]]\n"
     ]
    }
   ],
   "source": [
    "a = np.array([[2,  3, 5], [4, 5, 6], [6, 4, 7]])\n",
    "b = 10\n",
    "print(a*b) #Vectorization"
   ]
  },
  {
   "cell_type": "code",
   "execution_count": 127,
   "metadata": {},
   "outputs": [
    {
     "name": "stdout",
     "output_type": "stream",
     "text": [
      "[[2 3 5]\n",
      " [4 5 6]\n",
      " [6 4 7]]\n"
     ]
    }
   ],
   "source": [
    "a = np.array([[2,  3, 5], [4, 5, 6], [6, 4, 7]])\n",
    "b = np.array([5,  8, 1])\n",
    "np.save(\"a.npy\", a)          #save an np array\n",
    "np.savez(\"a.npz\", x=a, y=b)  #save multiple np arrays\n",
    "arr = np.load(\"a.npy\")       #load np array(s)\n",
    "print(arr)"
   ]
  },
  {
   "cell_type": "code",
   "execution_count": null,
   "metadata": {},
   "outputs": [],
   "source": []
  }
 ],
 "metadata": {
  "kernelspec": {
   "display_name": "Python 3",
   "language": "python",
   "name": "python3"
  },
  "language_info": {
   "codemirror_mode": {
    "name": "ipython",
    "version": 3
   },
   "file_extension": ".py",
   "mimetype": "text/x-python",
   "name": "python",
   "nbconvert_exporter": "python",
   "pygments_lexer": "ipython3",
   "version": "3.7.6"
  }
 },
 "nbformat": 4,
 "nbformat_minor": 4
}
