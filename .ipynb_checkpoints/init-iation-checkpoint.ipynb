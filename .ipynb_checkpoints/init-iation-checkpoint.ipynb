{
 "cells": [
  {
   "cell_type": "markdown",
   "metadata": {},
   "source": [
    "Here I go..."
   ]
  },
  {
   "cell_type": "code",
   "execution_count": 1,
   "metadata": {},
   "outputs": [
    {
     "name": "stdout",
     "output_type": "stream",
     "text": [
      "Hello word\n"
     ]
    }
   ],
   "source": [
    "print (\"Hello word\") #start of a roller coaster ride, let's go..."
   ]
  },
  {
   "cell_type": "code",
   "execution_count": 2,
   "metadata": {},
   "outputs": [
    {
     "data": {
      "text/plain": [
       "['In',\n",
       " 'Out',\n",
       " '_',\n",
       " '__',\n",
       " '___',\n",
       " '__builtin__',\n",
       " '__builtins__',\n",
       " '__doc__',\n",
       " '__loader__',\n",
       " '__name__',\n",
       " '__package__',\n",
       " '__spec__',\n",
       " '_dh',\n",
       " '_i',\n",
       " '_i1',\n",
       " '_i2',\n",
       " '_ih',\n",
       " '_ii',\n",
       " '_iii',\n",
       " '_oh',\n",
       " 'exit',\n",
       " 'get_ipython',\n",
       " 'quit']"
      ]
     },
     "execution_count": 2,
     "metadata": {},
     "output_type": "execute_result"
    }
   ],
   "source": [
    "dir() #list of python functions"
   ]
  },
  {
   "cell_type": "code",
   "execution_count": 3,
   "metadata": {},
   "outputs": [
    {
     "data": {
      "text/plain": [
       "['False',\n",
       " 'None',\n",
       " 'True',\n",
       " 'and',\n",
       " 'as',\n",
       " 'assert',\n",
       " 'async',\n",
       " 'await',\n",
       " 'break',\n",
       " 'class',\n",
       " 'continue',\n",
       " 'def',\n",
       " 'del',\n",
       " 'elif',\n",
       " 'else',\n",
       " 'except',\n",
       " 'finally',\n",
       " 'for',\n",
       " 'from',\n",
       " 'global',\n",
       " 'if',\n",
       " 'import',\n",
       " 'in',\n",
       " 'is',\n",
       " 'lambda',\n",
       " 'nonlocal',\n",
       " 'not',\n",
       " 'or',\n",
       " 'pass',\n",
       " 'raise',\n",
       " 'return',\n",
       " 'try',\n",
       " 'while',\n",
       " 'with',\n",
       " 'yield']"
      ]
     },
     "execution_count": 3,
     "metadata": {},
     "output_type": "execute_result"
    }
   ],
   "source": [
    "import keyword  #import library for keyword\n",
    "keyword.kwlist  #list of keywords in python"
   ]
  },
  {
   "cell_type": "code",
   "execution_count": 6,
   "metadata": {},
   "outputs": [
    {
     "name": "stdout",
     "output_type": "stream",
     "text": [
      "Rain rain go away,\n",
      "    Come again another day.\n",
      "Little Johney wants to play, \n",
      "    Rain rain go away\n"
     ]
    }
   ],
   "source": [
    "print (\"\"\"Rain rain go away,\n",
    "    Come again another day.\n",
    "Little Johney wants to play, \n",
    "    Rain rain go away\"\"\")    #multiline formatted output"
   ]
  },
  {
   "cell_type": "code",
   "execution_count": 2,
   "metadata": {},
   "outputs": [
    {
     "name": "stdout",
     "output_type": "stream",
     "text": [
      "15\n"
     ]
    }
   ],
   "source": [
    "a=5; b=10\n",
    "print(a+b)"
   ]
  },
  {
   "cell_type": "code",
   "execution_count": 12,
   "metadata": {},
   "outputs": [
    {
     "name": "stdout",
     "output_type": "stream",
     "text": [
      "a is : 10 and b is : 20\n"
     ]
    }
   ],
   "source": [
    "a, b = 10, 20    #multiple assignments supported\n",
    "print (\"a is :\", a, \"and b is :\", b)  #formatted output with variables"
   ]
  },
  {
   "cell_type": "code",
   "execution_count": 6,
   "metadata": {},
   "outputs": [
    {
     "name": "stdout",
     "output_type": "stream",
     "text": [
      "4538958048\n"
     ]
    }
   ],
   "source": [
    "a = 100\n",
    "print(id(a))     #memory address of a variable"
   ]
  },
  {
   "cell_type": "code",
   "execution_count": 5,
   "metadata": {},
   "outputs": [
    {
     "name": "stdout",
     "output_type": "stream",
     "text": [
      "65\n"
     ]
    }
   ],
   "source": [
    "a = 'A'\n",
    "print(ord(a))    #ASCII value of a character"
   ]
  },
  {
   "cell_type": "code",
   "execution_count": 7,
   "metadata": {},
   "outputs": [
    {
     "name": "stdout",
     "output_type": "stream",
     "text": [
      "<class 'float'>\n"
     ]
    }
   ],
   "source": [
    "a = 3.0\n",
    "print(type(a))     #type of an object"
   ]
  },
  {
   "cell_type": "code",
   "execution_count": 8,
   "metadata": {},
   "outputs": [
    {
     "name": "stdout",
     "output_type": "stream",
     "text": [
      "9.0\n",
      "9\n"
     ]
    }
   ],
   "source": [
    "a= 9.0\n",
    "print(a)\n",
    "print(int(a))     #type casting float to int"
   ]
  },
  {
   "cell_type": "code",
   "execution_count": 9,
   "metadata": {},
   "outputs": [
    {
     "name": "stdout",
     "output_type": "stream",
     "text": [
      "Please enter a number to print: 10\n",
      "10\n"
     ]
    }
   ],
   "source": [
    "print(input(\"Please enter a number to print: \"))    #taking user input for processing"
   ]
  },
  {
   "cell_type": "code",
   "execution_count": 14,
   "metadata": {},
   "outputs": [
    {
     "name": "stdout",
     "output_type": "stream",
     "text": [
      "Follow me......following previous input   this looks good.\n"
     ]
    }
   ],
   "source": [
    "print(\"Follow me...\", end=\"\")             #removing by default newline character in print()\n",
    "print(\"...following previous input\", end = \"\")\n",
    "print(\"   this looks good.\")"
   ]
  },
  {
   "cell_type": "code",
   "execution_count": 5,
   "metadata": {},
   "outputs": [
    {
     "name": "stdout",
     "output_type": "stream",
     "text": [
      "Addition: 30\n",
      "Subtraction: -10\n",
      "Multiplication: 200\n",
      "Division: 0.5\n",
      "Modulo division: 10\n",
      "Floor division: 0\n",
      "Exponent: 100000000000000000000\n",
      "Addition: 30\n"
     ]
    }
   ],
   "source": [
    "x, y = 10, 20\n",
    "print(\"Addition:\", x+y)\n",
    "print(\"Subtraction:\", x-y)\n",
    "print(\"Multiplication:\", x*y)\n",
    "print(\"Division:\", x/y)\n",
    "print(\"Modulo division:\", x%y)\n",
    "print(\"Floor division:\", x//y)\n",
    "print(\"Exponent:\", x**y)"
   ]
  },
  {
   "cell_type": "code",
   "execution_count": 7,
   "metadata": {},
   "outputs": [
    {
     "name": "stdout",
     "output_type": "stream",
     "text": [
      "Comparison >: False\n",
      "Comparison <: True\n",
      "Comparison ==: False\n",
      "Comparison !=: True\n",
      "Comparison >=: False\n",
      "Comparison <=: True\n"
     ]
    }
   ],
   "source": [
    "a, b = 10, 20\n",
    "print(\"Comparison >:\", a > b)\n",
    "print(\"Comparison <:\", a < b)\n",
    "print(\"Comparison ==:\", a == b)\n",
    "print(\"Comparison !=:\", a != b)\n",
    "print(\"Comparison >=:\", a >= b)\n",
    "print(\"Comparison <=:\", a <= b)"
   ]
  },
  {
   "cell_type": "code",
   "execution_count": 8,
   "metadata": {},
   "outputs": [
    {
     "name": "stdout",
     "output_type": "stream",
     "text": [
      "Logical and: False\n",
      "Logical or: True\n",
      "Logical not: True\n"
     ]
    }
   ],
   "source": [
    "a, b = True, False\n",
    "print(\"Logical and:\", a and b)\n",
    "print(\"Logical or:\", a or b)\n",
    "print(\"Logical not:\", not b)"
   ]
  },
  {
   "cell_type": "code",
   "execution_count": 15,
   "metadata": {},
   "outputs": [
    {
     "name": "stdout",
     "output_type": "stream",
     "text": [
      "Bitwise bitwise and: 0\n",
      "Bitwise bitwise or: 14\n",
      "Bitwise bitwise nor: -5\n",
      "Bitwise bitwise xor: 14\n",
      "Bitwise bitwise leftshift: 16\n",
      "Bitwise bitwise righshift: 1\n"
     ]
    }
   ],
   "source": [
    "a, b = 10, 4\n",
    "print(\"Bitwise bitwise and:\", a & b)\n",
    "print(\"Bitwise bitwise or:\", a | b)\n",
    "print(\"Bitwise bitwise nor:\", ~b)\n",
    "print(\"Bitwise bitwise xor:\", a^b)\n",
    "print(\"Bitwise bitwise leftshift:\", b<<2)\n",
    "print(\"Bitwise bitwise righshift:\", a>>3)"
   ]
  },
  {
   "cell_type": "code",
   "execution_count": 23,
   "metadata": {},
   "outputs": [
    {
     "name": "stdout",
     "output_type": "stream",
     "text": [
      "After Addition: 15\n",
      "After Subtraction: 5\n",
      "After Multiplication: 50\n",
      "After Division: 5.0\n",
      "After Modulo Division: 5.0\n",
      "After Floor Division: 7\n",
      "After Exponent: 282475249\n"
     ]
    }
   ],
   "source": [
    "##assignment operators\n",
    "a = 5\n",
    "a += 10\n",
    "print(\"After Addition:\", a)\n",
    "a -= 10\n",
    "print(\"After Subtraction:\", a)\n",
    "a *= 10\n",
    "print(\"After Multiplication:\", a)\n",
    "a /= 10\n",
    "print(\"After Division:\", a)\n",
    "a %= 10\n",
    "print(\"After Modulo Division:\", a)\n",
    "a= 74\n",
    "a //= 10\n",
    "print(\"After Floor Division:\", a)\n",
    "a **= 10\n",
    "print(\"After Exponent:\", a)"
   ]
  },
  {
   "cell_type": "code",
   "execution_count": 1,
   "metadata": {},
   "outputs": [
    {
     "name": "stdout",
     "output_type": "stream",
     "text": [
      "a is b: False\n",
      "a is not b: True\n"
     ]
    }
   ],
   "source": [
    "##Identity operators\n",
    "a, b = 7, 9\n",
    "print(\"a is b:\", a is b) # compares memory locations\n",
    "print(\"a is not b:\", a is not b)"
   ]
  },
  {
   "cell_type": "code",
   "execution_count": null,
   "metadata": {},
   "outputs": [],
   "source": [
    "##membership operators\n"
   ]
  }
 ],
 "metadata": {
  "kernelspec": {
   "display_name": "Python 3",
   "language": "python",
   "name": "python3"
  },
  "language_info": {
   "codemirror_mode": {
    "name": "ipython",
    "version": 3
   },
   "file_extension": ".py",
   "mimetype": "text/x-python",
   "name": "python",
   "nbconvert_exporter": "python",
   "pygments_lexer": "ipython3",
   "version": "3.7.6"
  }
 },
 "nbformat": 4,
 "nbformat_minor": 4
}
