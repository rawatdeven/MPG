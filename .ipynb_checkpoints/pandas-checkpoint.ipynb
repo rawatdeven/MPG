{
 "cells": [
  {
   "cell_type": "code",
   "execution_count": 2,
   "metadata": {},
   "outputs": [],
   "source": [
    "import os\n",
    "import numpy as np\n",
    "import pandas as pd"
   ]
  },
  {
   "cell_type": "code",
   "execution_count": 5,
   "metadata": {},
   "outputs": [
    {
     "name": "stdout",
     "output_type": "stream",
     "text": [
      "16 bit:  0.1235\n",
      "32 bit:  0.12345679\n",
      "64 bit:  0.123456789121212\n"
     ]
    }
   ],
   "source": [
    "a = np.array([0.123456789121212, 2, 3], dtype=np.float16)\n",
    "print(\"16 bit: \", a[0])\n",
    "a = np.array([0.123456789121212, 2, 3], dtype=np.float32)\n",
    "print(\"32 bit: \", a[0])\n",
    "a = np.array([0.123456789121212, 2, 3], dtype=np.float64)\n",
    "print(\"64 bit: \", a[0])"
   ]
  },
  {
   "cell_type": "code",
   "execution_count": 7,
   "metadata": {},
   "outputs": [
    {
     "name": "stdout",
     "output_type": "stream",
     "text": [
      "10    1\n",
      "11    2\n",
      "12    3\n",
      "13    4\n",
      "14    5\n",
      "dtype: int32\n"
     ]
    }
   ],
   "source": [
    "##Series\n",
    "sample = pd.Series(data = [1, 2, 3, 4, 5], index = [10, 11, 12, 13, 14], dtype=\"int32\")\n",
    "print(sample)"
   ]
  },
  {
   "cell_type": "code",
   "execution_count": 8,
   "metadata": {},
   "outputs": [
    {
     "name": "stdout",
     "output_type": "stream",
     "text": [
      "0    1\n",
      "1    2\n",
      "2    3\n",
      "3    4\n",
      "4    5\n",
      "dtype: int32\n"
     ]
    }
   ],
   "source": [
    "sample = pd.Series(data = [1, 2, 3, 4, 5], dtype=\"int32\")\n",
    "print(sample)"
   ]
  },
  {
   "cell_type": "code",
   "execution_count": 10,
   "metadata": {},
   "outputs": [
    {
     "name": "stdout",
     "output_type": "stream",
     "text": [
      "giant     Diansaur\n",
      "big       Elephant\n",
      "medium         Cow\n",
      "small          Cat\n",
      "tiny         Chick\n",
      "Name: animals, dtype: object\n"
     ]
    }
   ],
   "source": [
    "animal_size = [\"giant\", \"big\", \"medium\", \"small\", \"tiny\"]\n",
    "animal_name = [\"Diansaur\", \"Elephant\", \"Cow\", \"Cat\", \"Chick\"]\n",
    "\n",
    "animal_series = pd.Series(data = animal_name, index = animal_size, dtype = \"str\", name = \"animals\")\n",
    "print(animal_series)"
   ]
  },
  {
   "cell_type": "code",
   "execution_count": 16,
   "metadata": {},
   "outputs": [
    {
     "name": "stdout",
     "output_type": "stream",
     "text": [
      "name      123456\n",
      "number        12\n",
      "state     345678\n",
      "dtype: int64\n",
      "\n",
      "\n",
      "name1     NaN\n",
      "number1   NaN\n",
      "state1    NaN\n",
      "dtype: float64\n"
     ]
    }
   ],
   "source": [
    "#Using Dictionary\n",
    "data_dict = {\n",
    "    \"name\" : \"a\",\n",
    "    \"number\" : 12,\n",
    "    \"state\" : \"fluid\"\n",
    "}\n",
    "dict_series = pd.Series(data_dict)\n",
    "print(dict_series)\n",
    "print(\"\\n\")\n",
    "dict_series_indexed = pd.Series(data_dict, index = [\"name1\", \"number1\", \"state1\"])\n",
    "print(dict_series_indexed)"
   ]
  },
  {
   "cell_type": "code",
   "execution_count": 18,
   "metadata": {},
   "outputs": [
    {
     "data": {
      "text/html": [
       "<div>\n",
       "<style scoped>\n",
       "    .dataframe tbody tr th:only-of-type {\n",
       "        vertical-align: middle;\n",
       "    }\n",
       "\n",
       "    .dataframe tbody tr th {\n",
       "        vertical-align: top;\n",
       "    }\n",
       "\n",
       "    .dataframe thead th {\n",
       "        text-align: right;\n",
       "    }\n",
       "</style>\n",
       "<table border=\"1\" class=\"dataframe\">\n",
       "  <thead>\n",
       "    <tr style=\"text-align: right;\">\n",
       "      <th></th>\n",
       "      <th>one</th>\n",
       "      <th>two</th>\n",
       "      <th>three</th>\n",
       "      <th>four</th>\n",
       "    </tr>\n",
       "  </thead>\n",
       "  <tbody>\n",
       "    <tr>\n",
       "      <th>0</th>\n",
       "      <td>1</td>\n",
       "      <td>2</td>\n",
       "      <td>3</td>\n",
       "      <td>4</td>\n",
       "    </tr>\n",
       "    <tr>\n",
       "      <th>1</th>\n",
       "      <td>5</td>\n",
       "      <td>6</td>\n",
       "      <td>7</td>\n",
       "      <td>8</td>\n",
       "    </tr>\n",
       "  </tbody>\n",
       "</table>\n",
       "</div>"
      ],
      "text/plain": [
       "   one  two  three  four\n",
       "0    1    2      3     4\n",
       "1    5    6      7     8"
      ]
     },
     "execution_count": 18,
     "metadata": {},
     "output_type": "execute_result"
    }
   ],
   "source": [
    "##collection of series is a data frame\n",
    "list_df = pd.DataFrame(data = [[1, 2, 3, 4], [5, 6, 7, 8]], columns = [\"one\", \"two\", \"three\", \"four\"])\n",
    "list_df.head()"
   ]
  },
  {
   "cell_type": "code",
   "execution_count": 21,
   "metadata": {},
   "outputs": [
    {
     "data": {
      "text/html": [
       "<div>\n",
       "<style scoped>\n",
       "    .dataframe tbody tr th:only-of-type {\n",
       "        vertical-align: middle;\n",
       "    }\n",
       "\n",
       "    .dataframe tbody tr th {\n",
       "        vertical-align: top;\n",
       "    }\n",
       "\n",
       "    .dataframe thead th {\n",
       "        text-align: right;\n",
       "    }\n",
       "</style>\n",
       "<table border=\"1\" class=\"dataframe\">\n",
       "  <thead>\n",
       "    <tr style=\"text-align: right;\">\n",
       "      <th></th>\n",
       "      <th>one</th>\n",
       "      <th>two</th>\n",
       "      <th>three</th>\n",
       "      <th>four</th>\n",
       "    </tr>\n",
       "  </thead>\n",
       "  <tbody>\n",
       "    <tr>\n",
       "      <th>10</th>\n",
       "      <td>1</td>\n",
       "      <td>2</td>\n",
       "      <td>3</td>\n",
       "      <td>4</td>\n",
       "    </tr>\n",
       "    <tr>\n",
       "      <th>20</th>\n",
       "      <td>5</td>\n",
       "      <td>6</td>\n",
       "      <td>7</td>\n",
       "      <td>8</td>\n",
       "    </tr>\n",
       "  </tbody>\n",
       "</table>\n",
       "</div>"
      ],
      "text/plain": [
       "    one  two  three  four\n",
       "10    1    2      3     4\n",
       "20    5    6      7     8"
      ]
     },
     "execution_count": 21,
     "metadata": {},
     "output_type": "execute_result"
    }
   ],
   "source": [
    "##collection of series is a data frame\n",
    "list_df = pd.DataFrame(data = [[1, 2, 3, 4], [5, 6, 7, 8]], columns = [\"one\", \"two\", \"three\", \"four\"], index = [10, 20])\n",
    "list_df.head()"
   ]
  },
  {
   "cell_type": "code",
   "execution_count": 26,
   "metadata": {},
   "outputs": [
    {
     "data": {
      "text/html": [
       "<div>\n",
       "<style scoped>\n",
       "    .dataframe tbody tr th:only-of-type {\n",
       "        vertical-align: middle;\n",
       "    }\n",
       "\n",
       "    .dataframe tbody tr th {\n",
       "        vertical-align: top;\n",
       "    }\n",
       "\n",
       "    .dataframe thead th {\n",
       "        text-align: right;\n",
       "    }\n",
       "</style>\n",
       "<table border=\"1\" class=\"dataframe\">\n",
       "  <thead>\n",
       "    <tr style=\"text-align: right;\">\n",
       "      <th></th>\n",
       "      <th>name</th>\n",
       "      <th>price</th>\n",
       "    </tr>\n",
       "  </thead>\n",
       "  <tbody>\n",
       "    <tr>\n",
       "      <th>0</th>\n",
       "      <td>apple</td>\n",
       "      <td>10</td>\n",
       "    </tr>\n",
       "    <tr>\n",
       "      <th>1</th>\n",
       "      <td>orange</td>\n",
       "      <td>20</td>\n",
       "    </tr>\n",
       "    <tr>\n",
       "      <th>2</th>\n",
       "      <td>banana</td>\n",
       "      <td>30</td>\n",
       "    </tr>\n",
       "    <tr>\n",
       "      <th>3</th>\n",
       "      <td>onion</td>\n",
       "      <td>40</td>\n",
       "    </tr>\n",
       "  </tbody>\n",
       "</table>\n",
       "</div>"
      ],
      "text/plain": [
       "     name  price\n",
       "0   apple     10\n",
       "1  orange     20\n",
       "2  banana     30\n",
       "3   onion     40"
      ]
     },
     "execution_count": 26,
     "metadata": {},
     "output_type": "execute_result"
    }
   ],
   "source": [
    "#using dict\n",
    "dict_data = {\n",
    "    \"name\": [\"apple\", \"orange\", \"banana\", \"onion\"],\n",
    "    \"price\": [10, 20, 30, 40]\n",
    "}\n",
    "dict_df = pd.DataFrame(dict_data)\n",
    "dict_df"
   ]
  },
  {
   "cell_type": "code",
   "execution_count": 28,
   "metadata": {},
   "outputs": [
    {
     "data": {
      "text/html": [
       "<div>\n",
       "<style scoped>\n",
       "    .dataframe tbody tr th:only-of-type {\n",
       "        vertical-align: middle;\n",
       "    }\n",
       "\n",
       "    .dataframe tbody tr th {\n",
       "        vertical-align: top;\n",
       "    }\n",
       "\n",
       "    .dataframe thead th {\n",
       "        text-align: right;\n",
       "    }\n",
       "</style>\n",
       "<table border=\"1\" class=\"dataframe\">\n",
       "  <thead>\n",
       "    <tr style=\"text-align: right;\">\n",
       "      <th></th>\n",
       "      <th>name</th>\n",
       "      <th>price</th>\n",
       "      <th>age</th>\n",
       "    </tr>\n",
       "  </thead>\n",
       "  <tbody>\n",
       "    <tr>\n",
       "      <th>0</th>\n",
       "      <td>apple</td>\n",
       "      <td>10</td>\n",
       "      <td>old</td>\n",
       "    </tr>\n",
       "    <tr>\n",
       "      <th>1</th>\n",
       "      <td>orange</td>\n",
       "      <td>20</td>\n",
       "      <td>old</td>\n",
       "    </tr>\n",
       "    <tr>\n",
       "      <th>2</th>\n",
       "      <td>banana</td>\n",
       "      <td>30</td>\n",
       "      <td>[{'eye': 'blue'}]</td>\n",
       "    </tr>\n",
       "    <tr>\n",
       "      <th>3</th>\n",
       "      <td>onion</td>\n",
       "      <td>40</td>\n",
       "      <td>small</td>\n",
       "    </tr>\n",
       "  </tbody>\n",
       "</table>\n",
       "</div>"
      ],
      "text/plain": [
       "     name  price                age\n",
       "0   apple     10                old\n",
       "1  orange     20                old\n",
       "2  banana     30  [{'eye': 'blue'}]\n",
       "3   onion     40              small"
      ]
     },
     "execution_count": 28,
     "metadata": {},
     "output_type": "execute_result"
    }
   ],
   "source": [
    "##add new column to the dataframe\n",
    "dict_df[\"age\"] = [\"old\", \"old\", [{\"eye\": \"blue\"}], \"small\"]\n",
    "dict_df"
   ]
  },
  {
   "cell_type": "code",
   "execution_count": 29,
   "metadata": {},
   "outputs": [
    {
     "name": "stdout",
     "output_type": "stream",
     "text": [
      "20       1\n",
      "21       2\n",
      "22       3\n",
      "23    four\n",
      "24       5\n",
      "dtype: object\n",
      "object\n"
     ]
    }
   ],
   "source": [
    "sample = pd.Series( data = [1, '2', 3, 'four', 5], index = [20, 21, 22, 23, 24])\n",
    "print(sample)\n",
    "print(sample.dtype)"
   ]
  },
  {
   "cell_type": "code",
   "execution_count": 30,
   "metadata": {},
   "outputs": [
    {
     "data": {
      "text/plain": [
       "name     object\n",
       "price     int64\n",
       "age      object\n",
       "dtype: object"
      ]
     },
     "execution_count": 30,
     "metadata": {},
     "output_type": "execute_result"
    }
   ],
   "source": [
    "dict_df.dtypes"
   ]
  },
  {
   "cell_type": "code",
   "execution_count": 32,
   "metadata": {},
   "outputs": [
    {
     "name": "stdout",
     "output_type": "stream",
     "text": [
      "20    1.0\n",
      "21    2.0\n",
      "22    3.0\n",
      "23    4.0\n",
      "24    5.0\n",
      "dtype: float32\n"
     ]
    }
   ],
   "source": [
    "sample = pd.Series( data = [1, 2, 3, 4, 5], index = [20, 21, 22, 23, 24])\n",
    "print(sample.astype('float32'))"
   ]
  },
  {
   "cell_type": "code",
   "execution_count": null,
   "metadata": {},
   "outputs": [],
   "source": []
  }
 ],
 "metadata": {
  "kernelspec": {
   "display_name": "Python 3",
   "language": "python",
   "name": "python3"
  },
  "language_info": {
   "codemirror_mode": {
    "name": "ipython",
    "version": 3
   },
   "file_extension": ".py",
   "mimetype": "text/x-python",
   "name": "python",
   "nbconvert_exporter": "python",
   "pygments_lexer": "ipython3",
   "version": "3.7.6"
  }
 },
 "nbformat": 4,
 "nbformat_minor": 4
}
